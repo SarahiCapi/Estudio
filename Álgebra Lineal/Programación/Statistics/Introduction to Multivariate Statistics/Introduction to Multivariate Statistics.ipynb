{
 "cells": [
  {
   "cell_type": "markdown",
   "metadata": {},
   "source": [
    "### EJEMPLO 1\n",
    "Para calcular la media aritmética es necesario ocupar la función `mean()`."
   ]
  },
  {
   "cell_type": "code",
   "execution_count": 1,
   "metadata": {},
   "outputs": [
    {
     "name": "stdout",
     "output_type": "stream",
     "text": [
      "[1 2 3 4 5 6]\n",
      "3.5\n"
     ]
    }
   ],
   "source": [
    "# Media del vector\n",
    "\n",
    "from numpy import array, mean\n",
    "# Definiendo el vector\n",
    "v = array([1, 2, 3, 4, 5, 6])\n",
    "print(v)\n",
    "print(mean(v)) # Media de v"
   ]
  },
  {
   "cell_type": "markdown",
   "metadata": {},
   "source": [
    "Es posible calcular la media de una fila o columna de alguna matriz dando el valor $0$ o $1$ al argumento `axis`. "
   ]
  },
  {
   "cell_type": "code",
   "execution_count": 8,
   "metadata": {},
   "outputs": [
    {
     "name": "stdout",
     "output_type": "stream",
     "text": [
      "[[1 2 3 4 5 6]\n",
      " [1 2 3 4 5 6]]\n",
      "[1. 2. 3. 4. 5. 6.]\n",
      "[3.5 3.5]\n"
     ]
    }
   ],
   "source": [
    "# Medias de una matriz\n",
    "\n",
    "from numpy import array, mean\n",
    "# Definiendo la matriz\n",
    "M = array([\n",
    "    [1, 2, 3, 4, 5, 6],\n",
    "    [1, 2, 3, 4, 5, 6]\n",
    "])\n",
    "print(M)\n",
    "# Media de las columnas\n",
    "media_col = mean(M, axis = 0)\n",
    "print(media_col)\n",
    "# Media de las filas\n",
    "media_fila = mean(M, axis = 1)\n",
    "print(media_fila)"
   ]
  },
  {
   "cell_type": "markdown",
   "metadata": {},
   "source": [
    "### EJEMPLO 2\n",
    "Para calcular la varianza poblacional de un vector utilizamos la función `var()`, sin embargo, si queremos calcular la varianza muestral, debemos indicar como argumento `ddof = 1`."
   ]
  },
  {
   "cell_type": "code",
   "execution_count": 7,
   "metadata": {},
   "outputs": [
    {
     "name": "stdout",
     "output_type": "stream",
     "text": [
      "[1 2 3 4 5 6]\n",
      "3.5\n"
     ]
    }
   ],
   "source": [
    "# Varianza del vector\n",
    "\n",
    "from numpy import array, var\n",
    "# Definiendo el vector\n",
    "v = array([1, 2, 3, 4, 5, 6])\n",
    "print(v)\n",
    "# Calculando la varianza muestral\n",
    "print(var(v, ddof = 1))"
   ]
  },
  {
   "cell_type": "markdown",
   "metadata": {},
   "source": [
    "La función `var()` puede calcular la varianza de las filas o columnas de una matriz si especificamos el valor $0$ o $1$ en el argumento `axis`."
   ]
  },
  {
   "cell_type": "code",
   "execution_count": 9,
   "metadata": {},
   "outputs": [
    {
     "name": "stdout",
     "output_type": "stream",
     "text": [
      "[[1 2 3 4 5 6]\n",
      " [1 2 3 4 5 6]]\n",
      "[0. 0. 0. 0. 0. 0.]\n",
      "[3.5 3.5]\n"
     ]
    }
   ],
   "source": [
    "# Varianzas de una matriz\n",
    "\n",
    "from numpy import array, var\n",
    "# Definiendo la matriz\n",
    "M = array([\n",
    "    [1, 2, 3, 4, 5, 6],\n",
    "    [1, 2, 3, 4, 5, 6]\n",
    "])\n",
    "print(M)\n",
    "# Varianza de las columnas\n",
    "var_col = var(M, ddof = 1, axis = 0)\n",
    "print(var_col)\n",
    "# Varianza de las filas\n",
    "var_fila = var(M, ddof = 1, axis = 1)\n",
    "print(var_fila)"
   ]
  },
  {
   "cell_type": "markdown",
   "metadata": {},
   "source": [
    "### EJEMPLO 3\n",
    "Ocupamos la función `std()` para calcular la desviación estándar, y al argumento `ddof` les especificamos el valor $1$ para calcular la deviación estándar muestral insesgada. "
   ]
  },
  {
   "cell_type": "code",
   "execution_count": 10,
   "metadata": {},
   "outputs": [
    {
     "name": "stdout",
     "output_type": "stream",
     "text": [
      "[[1 2 3 4 5 6]\n",
      " [1 2 3 4 5 6]]\n",
      "[0. 0. 0. 0. 0. 0.]\n",
      "[1.87082869 1.87082869]\n"
     ]
    }
   ],
   "source": [
    "# Desviaciones estándar de una matriz\n",
    "\n",
    "from numpy import array, std\n",
    "# Definiendo la matriz\n",
    "M = array([\n",
    "    [1, 2, 3, 4, 5, 6],\n",
    "    [1, 2, 3, 4, 5, 6]\n",
    "])\n",
    "print(M)\n",
    "# DS de las columnas\n",
    "ds_col = std(M, ddof = 1, axis = 0)\n",
    "print(ds_col)\n",
    "# DS de las filas\n",
    "ds_fila = std(M, ddof = 1, axis = 1)\n",
    "print(ds_fila)"
   ]
  },
  {
   "cell_type": "markdown",
   "metadata": {},
   "source": [
    "### EJEMPLO 4\n",
    "Es necesario ocupar la función `cov()`."
   ]
  },
  {
   "cell_type": "code",
   "execution_count": 13,
   "metadata": {},
   "outputs": [
    {
     "name": "stdout",
     "output_type": "stream",
     "text": [
      "[1 2 3 4 5 6 7 8 9]\n",
      "[9 8 7 6 5 4 3 2 1]\n",
      "-7.5\n"
     ]
    }
   ],
   "source": [
    "# Covarianza de vectores\n",
    "\n",
    "from numpy import array, cov\n",
    "# Definiendo el primer y segundo vector\n",
    "x = array([1, 2, 3, 4, 5, 6, 7, 8, 9])\n",
    "print(x)\n",
    "y = array([9, 8, 7, 6, 5, 4, 3, 2, 1])\n",
    "print(y)\n",
    "# Calculando la covarianza\n",
    "Sigma = cov(x,y)[0, 1]\n",
    "print(Sigma)"
   ]
  },
  {
   "cell_type": "markdown",
   "metadata": {},
   "source": [
    "### EJEMPLO 5\n",
    "Para calcular el coeficiente de Pearson se ocupa la función `corrcoef()`."
   ]
  },
  {
   "cell_type": "code",
   "execution_count": 14,
   "metadata": {},
   "outputs": [
    {
     "name": "stdout",
     "output_type": "stream",
     "text": [
      "[1 2 3 4 5 6 7 8 9]\n",
      "[9 8 7 6 5 4 3 2 1]\n",
      "-1.0\n"
     ]
    }
   ],
   "source": [
    "# Correlación de un vector\n",
    "\n",
    "from numpy import array, corrcoef\n",
    "# Definiendo el primer y segundo vector\n",
    "x = array([1, 2, 3, 4, 5, 6, 7, 8, 9])\n",
    "print(x)\n",
    "y = array([9, 8, 7, 6, 5, 4, 3, 2, 1])\n",
    "print(y)\n",
    "# Calculando la correlación\n",
    "r = corrcoef(x,y)[0, 1]\n",
    "print(r)"
   ]
  },
  {
   "cell_type": "markdown",
   "metadata": {},
   "source": [
    "### EJEMPLO 6\n",
    "Si nosotros definimos una matriz a la cual le queremos calcular la covarianza, es necesario transponerla para obtener el resultado correcto."
   ]
  },
  {
   "cell_type": "code",
   "execution_count": 15,
   "metadata": {},
   "outputs": [
    {
     "name": "stdout",
     "output_type": "stream",
     "text": [
      "[[ 1  5  8]\n",
      " [ 3  5 11]\n",
      " [ 2  4  9]\n",
      " [ 3  6 10]\n",
      " [ 1  5 10]]\n",
      "[[1.   0.25 0.75]\n",
      " [0.25 0.5  0.25]\n",
      " [0.75 0.25 1.3 ]]\n"
     ]
    }
   ],
   "source": [
    "# Matriz de covarianzas\n",
    "\n",
    "from numpy import array, cov\n",
    "# Definiendo la matriz de observaciones\n",
    "X = array([\n",
    "    [1, 5, 8],\n",
    "    [3, 5, 11],\n",
    "    [2, 4, 9],\n",
    "    [3, 6, 10],\n",
    "    [1, 5, 10]\n",
    "])\n",
    "print(X)\n",
    "# Calculando la matriz de covarianzas\n",
    "Sigma = cov(X.T)\n",
    "print(Sigma)"
   ]
  }
 ],
 "metadata": {
  "kernelspec": {
   "display_name": "Python 3",
   "language": "python",
   "name": "python3"
  },
  "language_info": {
   "codemirror_mode": {
    "name": "ipython",
    "version": 3
   },
   "file_extension": ".py",
   "mimetype": "text/x-python",
   "name": "python",
   "nbconvert_exporter": "python",
   "pygments_lexer": "ipython3",
   "version": "3.7.3"
  }
 },
 "nbformat": 4,
 "nbformat_minor": 2
}
