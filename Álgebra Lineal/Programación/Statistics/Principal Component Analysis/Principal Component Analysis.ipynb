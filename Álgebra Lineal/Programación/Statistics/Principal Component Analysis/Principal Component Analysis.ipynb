{
 "cells": [
  {
   "cell_type": "markdown",
   "metadata": {},
   "source": [
    "### EJEMPLO 1"
   ]
  },
  {
   "cell_type": "code",
   "execution_count": 4,
   "metadata": {},
   "outputs": [
    {
     "name": "stdout",
     "output_type": "stream",
     "text": [
      "[[1 2]\n",
      " [3 4]\n",
      " [5 6]]\n",
      "[8. 0.]\n",
      "[[ 0.70710678 -0.70710678]\n",
      " [ 0.70710678  0.70710678]]\n",
      "[[-2.82842712  0.        ]\n",
      " [ 0.          0.        ]\n",
      " [ 2.82842712  0.        ]]\n"
     ]
    }
   ],
   "source": [
    "# Análisis de Componentes Principales\n",
    "\n",
    "from numpy import array, mean, cov\n",
    "from numpy.linalg import eig\n",
    "# Definiendo la matriz\n",
    "A = array([\n",
    "    [1, 2],\n",
    "    [3, 4],\n",
    "    [5, 6]\n",
    "])\n",
    "print(A)\n",
    "# Media de las columnas\n",
    "M = mean(A.T, axis = 1)\n",
    "# Centrando la matriz\n",
    "C = A - M\n",
    "# Calculando la matriz de covarianzas\n",
    "V = cov(C.T)\n",
    "# Factorizando la matriz de covarianzas\n",
    "valores, vectores = eig(V)\n",
    "print(valores)\n",
    "print(vectores)\n",
    "# Proyectando los datos\n",
    "P = vectores.T.dot(C.T)\n",
    "print(P.T)"
   ]
  },
  {
   "cell_type": "markdown",
   "metadata": {},
   "source": [
    "### EJEMPLO 2"
   ]
  },
  {
   "cell_type": "code",
   "execution_count": 6,
   "metadata": {},
   "outputs": [
    {
     "name": "stdout",
     "output_type": "stream",
     "text": [
      "[[1 2]\n",
      " [3 4]\n",
      " [5 6]]\n",
      "[[ 0.70710678  0.70710678]\n",
      " [ 0.70710678 -0.70710678]]\n",
      "[8.00000000e+00 2.25080839e-33]\n",
      "[[-2.82842712e+00  2.22044605e-16]\n",
      " [ 0.00000000e+00  0.00000000e+00]\n",
      " [ 2.82842712e+00 -2.22044605e-16]]\n"
     ]
    }
   ],
   "source": [
    "# PCA con scikit-learn\n",
    "\n",
    "from numpy import array\n",
    "from sklearn.decomposition import PCA\n",
    "# Definiendo la matriz\n",
    "A = array([\n",
    "    [1, 2],\n",
    "    [3, 4],\n",
    "    [5, 6]\n",
    "])\n",
    "print(A)\n",
    "# Creando la transformación\n",
    "pca = PCA(2)\n",
    "# Aplicando la transformación\n",
    "pca.fit(A)\n",
    "# Obteniendo los valore sy vectores\n",
    "print(pca.components_)\n",
    "print(pca.explained_variance_)\n",
    "# Transformando los datos\n",
    "B = pca.transform(A)\n",
    "print(B)"
   ]
  }
 ],
 "metadata": {
  "kernelspec": {
   "display_name": "Python 3",
   "language": "python",
   "name": "python3"
  },
  "language_info": {
   "codemirror_mode": {
    "name": "ipython",
    "version": 3
   },
   "file_extension": ".py",
   "mimetype": "text/x-python",
   "name": "python",
   "nbconvert_exporter": "python",
   "pygments_lexer": "ipython3",
   "version": "3.7.3"
  }
 },
 "nbformat": 4,
 "nbformat_minor": 2
}
