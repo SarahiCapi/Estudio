{
 "cells": [
  {
   "cell_type": "markdown",
   "metadata": {},
   "source": [
    "# From List to Arrays"
   ]
  },
  {
   "cell_type": "markdown",
   "metadata": {},
   "source": [
    "### One-Dimensional List to Arrays\n",
    "Cuando cargas tus datos, es posible que tengas acceso a ellos mediante una lista. Se puede convertir una lista de una dimensión a un arreglo a través de `array()`."
   ]
  },
  {
   "cell_type": "code",
   "execution_count": 15,
   "metadata": {},
   "outputs": [
    {
     "name": "stdout",
     "output_type": "stream",
     "text": [
      "[11 22 33 44 55]\n",
      "<class 'numpy.ndarray'>\n"
     ]
    }
   ],
   "source": [
    "# Creando arreglo de una dimensión\n",
    "\n",
    "from numpy import array\n",
    "# Lista de datos\n",
    "data = [11, 22, 33, 44, 55]\n",
    "# Arreglo de datos\n",
    "data = array(data)\n",
    "print(data)\n",
    "print(type(data))"
   ]
  },
  {
   "cell_type": "markdown",
   "metadata": {},
   "source": [
    "### Two-Dimensional List of Lists to Array\n",
    "Los datos bidimensionales son tablas con datos que cada fila representa una observación y una columa, una característica. El cargar este tipo de datos puede dar entrada a que tengamos una **lista de listas** donde cada lista representa una observación. Se puede conevritir este tipo de listas a arreglos con `array()`."
   ]
  },
  {
   "cell_type": "code",
   "execution_count": 2,
   "metadata": {},
   "outputs": [
    {
     "name": "stdout",
     "output_type": "stream",
     "text": [
      "[[11 22]\n",
      " [33 44]\n",
      " [55 66]]\n",
      "<class 'numpy.ndarray'>\n"
     ]
    }
   ],
   "source": [
    "# Creando un arreglo bidimensional\n",
    "\n",
    "from numpy import array\n",
    "# Lista de datos\n",
    "data = [[11, 22],\n",
    "       [33, 44],\n",
    "       [55, 66]]\n",
    "# Arreglo de datos\n",
    "data = array(data)\n",
    "print(data)\n",
    "print(type(data))"
   ]
  },
  {
   "cell_type": "markdown",
   "metadata": {},
   "source": [
    "# Array Indexing"
   ]
  },
  {
   "cell_type": "markdown",
   "metadata": {},
   "source": [
    "### One-Dimensional Indexing\n",
    "Los índices en Python nos servirán para acceder a los datos contenidos en arreglos. Para hacerlo, se usarán los corchetes [] para especificar la posición $i$ a la que queremos acceder, recordando que $i$ empieza a tomar valores en $0$."
   ]
  },
  {
   "cell_type": "code",
   "execution_count": 1,
   "metadata": {},
   "outputs": [
    {
     "name": "stdout",
     "output_type": "stream",
     "text": [
      "11\n",
      "44\n"
     ]
    }
   ],
   "source": [
    "# Acceder a un dato en un arreglo unidimensional\n",
    "\n",
    "from numpy import array\n",
    "# Definiendo el arreglo\n",
    "data = array([11, 22, 33, 44, 55])\n",
    "# Accediendo a los datos\n",
    "print(data[0])\n",
    "print(data[3])"
   ]
  },
  {
   "cell_type": "markdown",
   "metadata": {},
   "source": [
    "Si queremos acceder a una posición que se sale del límite del arreglo, el código nos enviará un error."
   ]
  },
  {
   "cell_type": "code",
   "execution_count": 2,
   "metadata": {},
   "outputs": [
    {
     "ename": "IndexError",
     "evalue": "index 5 is out of bounds for axis 0 with size 5",
     "output_type": "error",
     "traceback": [
      "\u001b[1;31m---------------------------------------------------------------------------\u001b[0m",
      "\u001b[1;31mIndexError\u001b[0m                                Traceback (most recent call last)",
      "\u001b[1;32m<ipython-input-2-9f963988d8fe>\u001b[0m in \u001b[0;36m<module>\u001b[1;34m\u001b[0m\n\u001b[0;32m      5\u001b[0m \u001b[1;33m\u001b[0m\u001b[0m\n\u001b[0;32m      6\u001b[0m \u001b[1;31m# Accediendo a los datos\u001b[0m\u001b[1;33m\u001b[0m\u001b[1;33m\u001b[0m\u001b[1;33m\u001b[0m\u001b[0m\n\u001b[1;32m----> 7\u001b[1;33m \u001b[0mprint\u001b[0m\u001b[1;33m(\u001b[0m\u001b[0mdata\u001b[0m\u001b[1;33m[\u001b[0m\u001b[1;36m5\u001b[0m\u001b[1;33m]\u001b[0m\u001b[1;33m)\u001b[0m\u001b[1;33m\u001b[0m\u001b[1;33m\u001b[0m\u001b[0m\n\u001b[0m",
      "\u001b[1;31mIndexError\u001b[0m: index 5 is out of bounds for axis 0 with size 5"
     ]
    }
   ],
   "source": [
    "# Acceder a un dato en un arreglo unidimensional\n",
    "\n",
    "from numpy import array\n",
    "# Definiendo el arreglo\n",
    "data = array([11, 22, 33, 44, 55])\n",
    "# Accediendo a los datos\n",
    "print(data[5])"
   ]
  },
  {
   "cell_type": "markdown",
   "metadata": {},
   "source": [
    "Es posible acceder a los últimos elementos del arreglo utilizando un índice o posición negativa. Por ejemplo, el índice $-1$ hace referencia al último elemento del arreglo. \n",
    "Es importante recalcar que cuando accedemos de esta manera al arreglo, el \"primer\" índice no empieza en $0$ sino en $-1$."
   ]
  },
  {
   "cell_type": "code",
   "execution_count": 4,
   "metadata": {},
   "outputs": [
    {
     "name": "stdout",
     "output_type": "stream",
     "text": [
      "55\n",
      "11\n"
     ]
    }
   ],
   "source": [
    "# Índice negativo\n",
    "\n",
    "from numpy import array\n",
    "# Definiendo el arreglo\n",
    "data = array([11, 22, 33, 44, 55])\n",
    "# Accediendo a los datos\n",
    "print(data[-1])\n",
    "print(data[-5])"
   ]
  },
  {
   "cell_type": "markdown",
   "metadata": {},
   "source": [
    "### Two-Dimensional Indexing\n",
    "Es similar que el índice unidimensional pues el único cambio que hay es que separaremos el índice para cada dimensión. Por ejemplo, `data[(0,0)]`."
   ]
  },
  {
   "cell_type": "code",
   "execution_count": 6,
   "metadata": {},
   "outputs": [
    {
     "name": "stdout",
     "output_type": "stream",
     "text": [
      "66\n"
     ]
    }
   ],
   "source": [
    "# Accediendo a un dato en un arreglo bidimensional\n",
    "\n",
    "from numpy import array\n",
    "# Definiendo el arreglo\n",
    "data = array([\n",
    "    [11, 22],\n",
    "    [33, 44],\n",
    "    [55, 66]])\n",
    "# Accediendo a los datos\n",
    "print(data[2,1])\n"
   ]
  },
  {
   "cell_type": "markdown",
   "metadata": {},
   "source": [
    "Si solo nos interesa en los elementos contenidos en alguna fila, podemos dejar el índice para la segunda dimensión vacío."
   ]
  },
  {
   "cell_type": "code",
   "execution_count": 8,
   "metadata": {},
   "outputs": [
    {
     "name": "stdout",
     "output_type": "stream",
     "text": [
      "[33 44]\n"
     ]
    }
   ],
   "source": [
    "# Accediendo a un dato en un arreglo bidimensional\n",
    "\n",
    "from numpy import array\n",
    "# Definiendo el arreglo\n",
    "data = array([\n",
    "    [11, 22],\n",
    "    [33, 44],\n",
    "    [55, 66]])\n",
    "# Accediendo a los datos\n",
    "print(data[1,])"
   ]
  },
  {
   "cell_type": "markdown",
   "metadata": {},
   "source": [
    "# Array Slicing "
   ]
  },
  {
   "cell_type": "markdown",
   "metadata": {},
   "source": [
    "Las estructuras como las listas o los arreglos pueden ser rebanadas. Esto nos quiere decir que una subsecuencia de la estructura puede ser indexada. \n",
    "Este proceso es muy útil en Machine Learning para especificar las variables de entrada y de salida, o también para dividir las filas para entrenamiento y prueba. \n",
    "La rebanada es especificada con el operador `:` con un índice *from-to*, la cual, se extiende desde el índice *from* y termina en un elemento antes del indicado por el índice *to*."
   ]
  },
  {
   "cell_type": "markdown",
   "metadata": {},
   "source": [
    "### One-Dimensional Slicing"
   ]
  },
  {
   "cell_type": "code",
   "execution_count": 9,
   "metadata": {},
   "outputs": [
    {
     "name": "stdout",
     "output_type": "stream",
     "text": [
      "[11 22 33 44 55]\n"
     ]
    }
   ],
   "source": [
    "# Rebanar un arreglo unidimensional\n",
    "\n",
    "from numpy import array\n",
    "# Definiendo el arreglo\n",
    "data = array([11, 22, 33, 44, 55])\n",
    "print(data[:]) # Si no especificamos el from-to, nos imprimirá todo el arreglo"
   ]
  },
  {
   "cell_type": "markdown",
   "metadata": {},
   "source": [
    "El primer elemento de un arreglo puede ser rebanado especificando que la rebanada empieza en el índice $0$ y termina en el índice $1$ (un elemento antes del índice *to*). "
   ]
  },
  {
   "cell_type": "code",
   "execution_count": 10,
   "metadata": {},
   "outputs": [
    {
     "name": "stdout",
     "output_type": "stream",
     "text": [
      "[11]\n"
     ]
    }
   ],
   "source": [
    "# Rebanar un subconjunto de un arreglo unidimensional\n",
    "\n",
    "from numpy import array\n",
    "# Definiendo el arreglo \n",
    "data = array([11, 22, 33, 44, 55])\n",
    "print(data[0:1])"
   ]
  },
  {
   "cell_type": "markdown",
   "metadata": {},
   "source": [
    "De igual manera, podemos usar índices negativos. Por ejemplo, podemos rebanar los últimos dos elementos empezando la rebanada en $-2$ (el segundo último elemento) y no especificamos el índice *to*."
   ]
  },
  {
   "cell_type": "code",
   "execution_count": 12,
   "metadata": {},
   "outputs": [
    {
     "name": "stdout",
     "output_type": "stream",
     "text": [
      "[44 55]\n"
     ]
    }
   ],
   "source": [
    "# Rebanar un subconjunto de un arreglo unidimensional con un índice negativo\n",
    "\n",
    "from numpy import array\n",
    "# Definiendo el arreglo \n",
    "data = array([11, 22, 33, 44, 55])\n",
    "print(data[-2:])"
   ]
  },
  {
   "cell_type": "markdown",
   "metadata": {},
   "source": [
    "### Two-Dimensional Slicing\n",
    "Algunos ejemplos de la rebanda bidimensional que pueden ser ocupados en Machine Learning son:"
   ]
  },
  {
   "cell_type": "markdown",
   "metadata": {},
   "source": [
    "#### Split Input and Output Features\n",
    "Es común dividir los datos cargados en variables de entrada ($X$) y variables de salida ($y$). Esto es posible hacerlo si rebanamos antes de la última columna, y a ésta, la indexamos de manera separada.\n",
    "Para los input, especificamos las filas y columnas de la siguiente manera: `X = [:, :-1]`, en donde la primer entrada indica que ocuparemos todas las filas y la segunda entrada indica que ocuparemos todas las columnas excepto la última; para el output, especificamos que ocuparemos todas las filas y sólo la última columna de la siguiente manera: `y = [:, -1]`.\n",
    "Como ejemplo, podemos separar un dataset bidimensional con 3 columnas en datos de entrada y salida:"
   ]
  },
  {
   "cell_type": "code",
   "execution_count": 14,
   "metadata": {},
   "outputs": [
    {
     "name": "stdout",
     "output_type": "stream",
     "text": [
      "[[11 22]\n",
      " [44 55]\n",
      " [77 88]]\n",
      "[33 66 99]\n"
     ]
    }
   ],
   "source": [
    "# Separar los datos en datos de entrada y salida\n",
    "\n",
    "from numpy import array\n",
    "# Definiendo el arreglo\n",
    "data = array([\n",
    "    [11, 22, 33],\n",
    "    [44, 55, 66],\n",
    "    [77, 88, 99]])\n",
    "# Separando los datos\n",
    "X, y = data[:, :-1], data[:, -1]\n",
    "print(X)\n",
    "print(y)"
   ]
  },
  {
   "cell_type": "markdown",
   "metadata": {},
   "source": [
    "Notemos que `X` es un arreglo bidimensional y `y`, unidimensional."
   ]
  },
  {
   "cell_type": "markdown",
   "metadata": {},
   "source": [
    "#### Split Train and Test Rows\n",
    "Es igualmente común separar el dataset en datos de entrenamiento y prueba, los cuales se ocupan para entrenar el modelo y estimar la predición de éste, respectivamente. Esto conlleva a rebanar las columnas especificando `:` en la segunda entrada. \n",
    "Para los datos de entrenamiento se especifica que tomarán todas las filas desde el inicio hasta el punto de separación (`train = data[:split, :]`) y, para los datos de prueba, serán todas las filas que comiencen en el punto de separación hasta el final de la dimensión (`test = data[split:, :]`). "
   ]
  },
  {
   "cell_type": "code",
   "execution_count": 17,
   "metadata": {},
   "outputs": [
    {
     "name": "stdout",
     "output_type": "stream",
     "text": [
      "[[11 22 33]\n",
      " [44 55 66]]\n",
      "[[77 88 99]]\n"
     ]
    }
   ],
   "source": [
    "# Separar los datos en datos de entrenamiento y prueba\n",
    "\n",
    "from numpy import array\n",
    "# Definiendo el arreglo\n",
    "data = array([\n",
    "    [11, 22, 33],\n",
    "    [44, 55, 66],\n",
    "    [77, 88, 99]])\n",
    "# Separando los datos\n",
    "split = 2\n",
    "train, test = data[:split, :], data[split:, :]\n",
    "print(train)\n",
    "print(test)"
   ]
  },
  {
   "cell_type": "markdown",
   "metadata": {},
   "source": [
    "# Array Reshaping"
   ]
  },
  {
   "cell_type": "markdown",
   "metadata": {},
   "source": [
    "Después de rebanar los datos, es posible que se necesiten reescalar, pues algunas librerías suelen pedir que un arreglo unidimensional sea reescalado a un arreglo bidimensional, por ejemplo. Algunos algoritmos, como Long Short-Term Memory recurrent neural network en keras, requiere que el input sea especificado como un arreglo tridimensional."
   ]
  },
  {
   "cell_type": "markdown",
   "metadata": {},
   "source": [
    "### Data Shape\n",
    "En NumPy, los arreglos tienen el atributo `shape` que regresa una tupla (conjunto ordenado de elementos que pueden ser del mismo tipo o no,lal cual, no puede ser modificada), la cual, contiene el largo de cada dimensión del arreglo. "
   ]
  },
  {
   "cell_type": "code",
   "execution_count": 18,
   "metadata": {},
   "outputs": [
    {
     "name": "stdout",
     "output_type": "stream",
     "text": [
      "(5,)\n"
     ]
    }
   ],
   "source": [
    "# Forma de un arreglo unidimensional\n",
    "\n",
    "from numpy import array\n",
    "# Definiendo el arreglo\n",
    "data = array([11, 22, 33, 44 ,55])\n",
    "print(data.shape)"
   ]
  },
  {
   "cell_type": "markdown",
   "metadata": {},
   "source": [
    "Ahora, si consideramos un arreglo bidimensional:"
   ]
  },
  {
   "cell_type": "code",
   "execution_count": 21,
   "metadata": {},
   "outputs": [
    {
     "name": "stdout",
     "output_type": "stream",
     "text": [
      "(3, 2)\n"
     ]
    }
   ],
   "source": [
    "# Forma de un arreglo bidimensional\n",
    "\n",
    "from numpy import array\n",
    "# Definiendo el arreglo\n",
    "data = array([\n",
    "    [11, 22], \n",
    "    [33, 44],\n",
    "    [55, 66]])\n",
    "print(data.shape) # La primer entrada indica el número de filas, \n",
    "                  # y la segunda, el número de columnas"
   ]
  },
  {
   "cell_type": "markdown",
   "metadata": {},
   "source": [
    "Podemos acceder a los elementos de una tupla de la misma manera en como accedemos a los de un arreglo:"
   ]
  },
  {
   "cell_type": "code",
   "execution_count": 28,
   "metadata": {},
   "outputs": [
    {
     "name": "stdout",
     "output_type": "stream",
     "text": [
      "Filas: 3\n",
      "Columnas: 2\n"
     ]
    }
   ],
   "source": [
    "# Acceder a los elementos de una tupla\n",
    "\n",
    "from numpy import array\n",
    "# Definiendo el arreglo\n",
    "data = array([\n",
    "    [11, 22], \n",
    "    [33, 44],\n",
    "    [55, 66]])\n",
    "print('Filas: %i' % data.shape[0])\n",
    "print('Columnas: %i' % data.shape[1])"
   ]
  },
  {
   "cell_type": "markdown",
   "metadata": {},
   "source": [
    "### Reshape 1D to 2D Array\n",
    "En NumPy existe la función `reshape()` para reescalar los datos. ésta toma un sólo argumento que especifica la nueva forma que queremos darle al arreglo. Si queremos reescalar unn arreglo unidimensioanl a uno bidimensional con una columna, la tupla tendrá como primera entrada la forma del arreglo (`data.shape[0]`) y como segunda entrada, un 1."
   ]
  },
  {
   "cell_type": "code",
   "execution_count": 34,
   "metadata": {},
   "outputs": [
    {
     "name": "stdout",
     "output_type": "stream",
     "text": [
      "(5,)\n",
      "(5, 1)\n",
      "[[11]\n",
      " [22]\n",
      " [33]\n",
      " [44]\n",
      " [55]]\n"
     ]
    }
   ],
   "source": [
    "# Reescalando un arreglo unidimensional a uno bidimensional\n",
    "\n",
    "from numpy import array\n",
    "# Definiendo el arreglo\n",
    "data = array([11, 22, 33, 44, 55])\n",
    "print(data.shape)\n",
    "# Reescalando\n",
    "data = data.reshape((data.shape[0], 1)) # Obtendremos un arreglo con cinco filas y \n",
    "                                        # una columna\n",
    "print(data.shape)\n",
    "print(data)"
   ]
  },
  {
   "cell_type": "markdown",
   "metadata": {},
   "source": [
    "### Reshape 2D to 3D Array\n",
    "Es común reescalar datos bidimensionales (en donde cada fila representa una secuencia) a un arreglo tridimensional para algoritmos que necesitan múltiples muestras que constan de uno o más pasos en el tiempo y de una o más características. Para reescalarlo, ocupamos `data.reshape((data.shape[0]), data.shape[1], 1))`."
   ]
  },
  {
   "cell_type": "code",
   "execution_count": 38,
   "metadata": {},
   "outputs": [
    {
     "name": "stdout",
     "output_type": "stream",
     "text": [
      "(3, 2)\n",
      "(3, 2, 1)\n",
      "[[[11]\n",
      "  [22]]\n",
      "\n",
      " [[33]\n",
      "  [44]]\n",
      "\n",
      " [[55]\n",
      "  [66]]]\n"
     ]
    }
   ],
   "source": [
    "# Reescalando un arreglo bidimensional a uno tridimensional\n",
    "\n",
    "from numpy import array\n",
    "# Definiendo el arreglo\n",
    "data = array([[11, 22], \n",
    "              [33, 44], \n",
    "              [55, 66]])\n",
    "print(data.shape)\n",
    "# Reescalando\n",
    "data = data.reshape((data.shape[0], data.shape[1], 1))\n",
    "print(data.shape)\n",
    "print(data)"
   ]
  }
 ],
 "metadata": {
  "kernelspec": {
   "display_name": "Python 3",
   "language": "python",
   "name": "python3"
  },
  "language_info": {
   "codemirror_mode": {
    "name": "ipython",
    "version": 3
   },
   "file_extension": ".py",
   "mimetype": "text/x-python",
   "name": "python",
   "nbconvert_exporter": "python",
   "pygments_lexer": "ipython3",
   "version": "3.7.3"
  }
 },
 "nbformat": 4,
 "nbformat_minor": 2
}
