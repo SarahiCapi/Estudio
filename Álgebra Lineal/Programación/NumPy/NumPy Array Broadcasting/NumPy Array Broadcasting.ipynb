{
 "cells": [
  {
   "cell_type": "markdown",
   "metadata": {},
   "source": [
    "# Limitation with Array Arithmetic\n",
    "Se puede aplicar directamente operaciones aritméticas en los arreglos NumPy, como adición y substracción. "
   ]
  },
  {
   "cell_type": "code",
   "execution_count": 1,
   "metadata": {},
   "outputs": [
    {
     "name": "stdout",
     "output_type": "stream",
     "text": [
      "[2 4 6] [0 0 0]\n"
     ]
    }
   ],
   "source": [
    "# Aritmética en arreglos NumPy\n",
    "\n",
    "from numpy import array\n",
    "# Definiendo los arreglos\n",
    "a, b = array([1, 2, 3]), array([1, 2, 3])\n",
    "# Sumando y restando a y b\n",
    "print(a + b, a - b)"
   ]
  },
  {
   "cell_type": "markdown",
   "metadata": {},
   "source": [
    "Estrictamente, esto puede ser usado en arreglos que tienen la misma dimensión y dimensiones con el mismo tamaño, sin embargo, en NumPy existe un método para realizar operaciones aritméticas con arreglos de diferentes tamaños."
   ]
  },
  {
   "cell_type": "markdown",
   "metadata": {},
   "source": [
    "# Array Broadcasting\n",
    "Broadcasting es el nombre que recibe el método usado en NumPy para permitir las operaciones aritméticas entre arreglos de diferentes tamaños. Este método no sólo es utilizado en NumPy, sino que también en Theano, TensorFlow y Octave. \n",
    "Para lograr esto, NumPy no duplica el arreglo más pequeño para hacerlo del mismo tamaño que el grande; usa las estructuras existentes en la memoria para obtener este mismo resultado. "
   ]
  },
  {
   "cell_type": "markdown",
   "metadata": {},
   "source": [
    "# Broadcasting in NumPy\n",
    "### Scalar and One-Dimensional Array\n",
    "Un valor o escalar puede ser usado en una operación aritmética en un arreglo unidimensional sin necesidad de duplicarlo hasta crear un arreglo del mismo tamaño que el primero.\n"
   ]
  },
  {
   "cell_type": "code",
   "execution_count": 2,
   "metadata": {},
   "outputs": [
    {
     "name": "stdout",
     "output_type": "stream",
     "text": [
      "[1 2 3]\n",
      "3\n",
      "[4 5 6]\n"
     ]
    }
   ],
   "source": [
    "# Broadcast un escalar a un arreglo unidimensional\n",
    "\n",
    "from numpy import array\n",
    "# Definiendo el arreglo\n",
    "a = array([1, 2, 3])\n",
    "print(a)\n",
    "# Definiendo el escalar\n",
    "b = 3\n",
    "print(b)\n",
    "# Broadcast\n",
    "c = a + b\n",
    "print(c)"
   ]
  },
  {
   "cell_type": "markdown",
   "metadata": {},
   "source": [
    "### Scalar and Two-Dimensional Array\n",
    "De igual manera, un esaclar puede ser usado en un arreglo bidimensional. "
   ]
  },
  {
   "cell_type": "code",
   "execution_count": 4,
   "metadata": {},
   "outputs": [
    {
     "name": "stdout",
     "output_type": "stream",
     "text": [
      "[[1 2 3]\n",
      " [1 2 3]]\n",
      "3\n",
      "[[4 5 6]\n",
      " [4 5 6]]\n"
     ]
    }
   ],
   "source": [
    "# Broadcast un escalar a un arreglo bidimensional\n",
    "\n",
    "from numpy import array\n",
    "# Defiendo el arreglo\n",
    "A = array([\n",
    "    [1, 2, 3],\n",
    "    [1, 2, 3]])\n",
    "print(A)\n",
    "# Definiendo el escalar\n",
    "b = 3\n",
    "print(b)\n",
    "# Broadcast\n",
    "C = A + b\n",
    "print(C)"
   ]
  },
  {
   "cell_type": "markdown",
   "metadata": {},
   "source": [
    "### One-Dimensional and Two-Dimensional Arrays\n",
    "Un arreglo unidimensional puede ser usado en una operación aritmética en un arreglo bidimensional. "
   ]
  },
  {
   "cell_type": "code",
   "execution_count": 10,
   "metadata": {},
   "outputs": [
    {
     "name": "stdout",
     "output_type": "stream",
     "text": [
      "[[1 2 3]\n",
      " [1 2 3]]\n",
      "[1 2 3]\n",
      "[[2 4 6]\n",
      " [2 4 6]]\n"
     ]
    }
   ],
   "source": [
    "# Broadcast un arreglo unidimensional a un arreglo bidimensional\n",
    "\n",
    "from numpy import array\n",
    "# Definiendo el arreglo bidimensional\n",
    "A = array([\n",
    "    [1, 2, 3],\n",
    "    [1, 2, 3]])\n",
    "print(A)\n",
    "# Definiendo el arreglo unidimensional\n",
    "b = array([1, 2, 3])\n",
    "print(b)\n",
    "# Broadcast\n",
    "C = A + b\n",
    "print(C)"
   ]
  },
  {
   "cell_type": "markdown",
   "metadata": {},
   "source": [
    "# Limitations of Broadcasting\n",
    "Las opraciones aritméticas, incluyendo el broadcasting, pueden ser realizadas siempre y cuando la escala de cada dimensión en lo arreglos sean iguales, o que uno tenga una dimensión de tamaño 1. Éstas son consideradas al revés, esto es, se consideran primero las columnas antes que las filas y, en dado caso de que las dimensiones no coincidan, el broadcasting no puede ser realizado."
   ]
  },
  {
   "cell_type": "code",
   "execution_count": 8,
   "metadata": {},
   "outputs": [
    {
     "name": "stdout",
     "output_type": "stream",
     "text": [
      "(2, 3)\n",
      "(2,)\n"
     ]
    },
    {
     "ename": "ValueError",
     "evalue": "operands could not be broadcast together with shapes (2,3) (2,) ",
     "output_type": "error",
     "traceback": [
      "\u001b[1;31m---------------------------------------------------------------------------\u001b[0m",
      "\u001b[1;31mValueError\u001b[0m                                Traceback (most recent call last)",
      "\u001b[1;32m<ipython-input-8-8821bb243fa3>\u001b[0m in \u001b[0;36m<module>\u001b[1;34m\u001b[0m\n\u001b[0;32m     11\u001b[0m \u001b[0mprint\u001b[0m\u001b[1;33m(\u001b[0m\u001b[0mb\u001b[0m\u001b[1;33m.\u001b[0m\u001b[0mshape\u001b[0m\u001b[1;33m)\u001b[0m\u001b[1;33m\u001b[0m\u001b[1;33m\u001b[0m\u001b[0m\n\u001b[0;32m     12\u001b[0m \u001b[1;31m# Intentando aplicar el broadcast\u001b[0m\u001b[1;33m\u001b[0m\u001b[1;33m\u001b[0m\u001b[1;33m\u001b[0m\u001b[0m\n\u001b[1;32m---> 13\u001b[1;33m \u001b[0mC\u001b[0m \u001b[1;33m=\u001b[0m \u001b[0mA\u001b[0m \u001b[1;33m+\u001b[0m \u001b[0mb\u001b[0m\u001b[1;33m\u001b[0m\u001b[1;33m\u001b[0m\u001b[0m\n\u001b[0m\u001b[0;32m     14\u001b[0m \u001b[0mprint\u001b[0m\u001b[1;33m(\u001b[0m\u001b[0mC\u001b[0m\u001b[1;33m)\u001b[0m\u001b[1;33m\u001b[0m\u001b[1;33m\u001b[0m\u001b[0m\n",
      "\u001b[1;31mValueError\u001b[0m: operands could not be broadcast together with shapes (2,3) (2,) "
     ]
    }
   ],
   "source": [
    "# Error en el broadcasting\n",
    "\n",
    "from numpy import array\n",
    "# Definiendo el arreglo bidimensional\n",
    "A = array([\n",
    "    [1, 2, 3],\n",
    "    [1, 2, 3]])\n",
    "print(A.shape)\n",
    "# Definiendo el arreglo unidimensional\n",
    "b = array([1, 2])\n",
    "print(b.shape)\n",
    "# Intentando aplicar el broadcast\n",
    "C = A + b\n",
    "print(C)"
   ]
  }
 ],
 "metadata": {
  "kernelspec": {
   "display_name": "Python 3",
   "language": "python",
   "name": "python3"
  },
  "language_info": {
   "codemirror_mode": {
    "name": "ipython",
    "version": 3
   },
   "file_extension": ".py",
   "mimetype": "text/x-python",
   "name": "python",
   "nbconvert_exporter": "python",
   "pygments_lexer": "ipython3",
   "version": "3.7.3"
  }
 },
 "nbformat": 4,
 "nbformat_minor": 2
}
