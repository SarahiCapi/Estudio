{
 "cells": [
  {
   "cell_type": "markdown",
   "metadata": {},
   "source": [
    "### EJEMPLO 1\n",
    "La descomposición SV se puede calcular usando la función `svd()`. "
   ]
  },
  {
   "cell_type": "code",
   "execution_count": 1,
   "metadata": {},
   "outputs": [
    {
     "name": "stdout",
     "output_type": "stream",
     "text": [
      "[[1 2]\n",
      " [3 4]\n",
      " [5 6]]\n",
      "[[-0.2298477   0.88346102  0.40824829]\n",
      " [-0.52474482  0.24078249 -0.81649658]\n",
      " [-0.81964194 -0.40189603  0.40824829]]\n",
      "[9.52551809 0.51430058]\n",
      "[[-0.61962948 -0.78489445]\n",
      " [-0.78489445  0.61962948]]\n"
     ]
    }
   ],
   "source": [
    "# Descomposición SV\n",
    "\n",
    "from numpy import array\n",
    "from scipy.linalg import svd\n",
    "# Definiendo la matriz\n",
    "A = array([\n",
    "    [1, 2],\n",
    "    [3, 4],\n",
    "    [5, 6]\n",
    "])\n",
    "print(A)\n",
    "# Factorizando\n",
    "U, s, V = svd(A)\n",
    "print(U)\n",
    "print(s)\n",
    "print(V)"
   ]
  },
  {
   "cell_type": "markdown",
   "metadata": {},
   "source": [
    "### EJEMPLO 2"
   ]
  },
  {
   "cell_type": "code",
   "execution_count": 2,
   "metadata": {},
   "outputs": [
    {
     "name": "stdout",
     "output_type": "stream",
     "text": [
      "[[1 2]\n",
      " [3 4]\n",
      " [5 6]]\n",
      "[[1. 2.]\n",
      " [3. 4.]\n",
      " [5. 6.]]\n"
     ]
    }
   ],
   "source": [
    "# Reconstruir la matriz original\n",
    "\n",
    "from numpy import array, diag, zeros\n",
    "from scipy.linalg import svd\n",
    "# Definiendo la matriz\n",
    "A = array([\n",
    "    [1, 2],\n",
    "    [3, 4],\n",
    "    [5, 6]\n",
    "])\n",
    "print(A)\n",
    "# Factorizando\n",
    "U, s, V = svd(A)\n",
    "# Creando la matriz Sigma de m x n\n",
    "Sigma = zeros((A.shape[0], A.shape[1]))\n",
    "# Llenando Sigma con la matriz diagonal de n x n\n",
    "Sigma[:A.shape[1], :A.shape[1]] = diag(s)\n",
    "# Reconstruyendo la matriz\n",
    "B = U.dot(Sigma.dot(V))\n",
    "print(B)"
   ]
  },
  {
   "cell_type": "markdown",
   "metadata": {},
   "source": [
    "### EJEMPLO 3\n",
    "Es necesario usar la función `pinv()`.\n"
   ]
  },
  {
   "cell_type": "code",
   "execution_count": 4,
   "metadata": {},
   "outputs": [
    {
     "name": "stdout",
     "output_type": "stream",
     "text": [
      "[[0.1 0.2]\n",
      " [0.3 0.4]\n",
      " [0.5 0.6]\n",
      " [0.7 0.8]]\n",
      "[[-1.00000000e+01 -5.00000000e+00  9.07607323e-15  5.00000000e+00]\n",
      " [ 8.50000000e+00  4.50000000e+00  5.00000000e-01 -3.50000000e+00]]\n"
     ]
    }
   ],
   "source": [
    "# Pseudoinversa\n",
    "\n",
    "from numpy import array\n",
    "from numpy.linalg import pinv\n",
    "# Definiendo la matriz\n",
    "A = array([\n",
    "    [.1, .2],\n",
    "    [.3, .4],\n",
    "    [.5, .6],\n",
    "    [.7, .8]\n",
    "])\n",
    "print(A)\n",
    "# Calculando la pseudoinversa\n",
    "B = pinv(A)\n",
    "print(B)"
   ]
  },
  {
   "cell_type": "markdown",
   "metadata": {},
   "source": [
    "Calculando la pseudoinversa manualmente:"
   ]
  },
  {
   "cell_type": "code",
   "execution_count": 5,
   "metadata": {},
   "outputs": [
    {
     "name": "stdout",
     "output_type": "stream",
     "text": [
      "[[0.1 0.2]\n",
      " [0.3 0.4]\n",
      " [0.5 0.6]\n",
      " [0.7 0.8]]\n",
      "[[-1.00000000e+01 -5.00000000e+00  9.07607323e-15  5.00000000e+00]\n",
      " [ 8.50000000e+00  4.50000000e+00  5.00000000e-01 -3.50000000e+00]]\n"
     ]
    }
   ],
   "source": [
    "# Pseudoinversa via SVD\n",
    "\n",
    "from numpy import array, diag, zeros\n",
    "from scipy.linalg import svd\n",
    "# Definiendo la matriz\n",
    "A = array([\n",
    "    [.1, .2],\n",
    "    [.3, .4],\n",
    "    [.5, .6],\n",
    "    [.7, .8]\n",
    "])\n",
    "print(A)\n",
    "# Factorizando\n",
    "U, s, V = svd(A)\n",
    "# Reciproco de s\n",
    "d = 1 / s\n",
    "# Creando la matris D de m x n\n",
    "D = zeros(A.shape)\n",
    "# Llenando D con la matriz diagonal de n x n\n",
    "D[:A.shape[1], :A.shape[1]] = diag(d)\n",
    "# Calculando la pseudoinversa\n",
    "B = V.T.dot(D.T).dot(U.T)\n",
    "print(B)"
   ]
  },
  {
   "cell_type": "markdown",
   "metadata": {},
   "source": [
    "### EJEMPLO 4"
   ]
  },
  {
   "cell_type": "code",
   "execution_count": 8,
   "metadata": {},
   "outputs": [
    {
     "name": "stdout",
     "output_type": "stream",
     "text": [
      "[[ 1  2  3  4  5  6  7  8  9 10]\n",
      " [11 12 13 14 15 16 17 18 19 20]\n",
      " [21 22 23 24 25 26 27 28 29 30]]\n",
      "[[ 1.  2.  3.  4.  5.  6.  7.  8.  9. 10.]\n",
      " [11. 12. 13. 14. 15. 16. 17. 18. 19. 20.]\n",
      " [21. 22. 23. 24. 25. 26. 27. 28. 29. 30.]]\n",
      "[[-18.52157747   6.47697214]\n",
      " [-49.81310011   1.91182038]\n",
      " [-81.10462276  -2.65333138]]\n",
      "[[-18.52157747   6.47697214]\n",
      " [-49.81310011   1.91182038]\n",
      " [-81.10462276  -2.65333138]]\n"
     ]
    }
   ],
   "source": [
    "# Reducción de la dimensión con SVD\n",
    "from numpy import array, diag, zeros\n",
    "from scipy.linalg import svd\n",
    "\n",
    "# Definiendo la matriz\n",
    "A = array([\n",
    "    [1, 2, 3, 4, 5, 6, 7, 8, 9, 10],\n",
    "    [11, 12, 13, 14, 15, 16, 17, 18, 19, 20],\n",
    "    [21, 22, 23, 24, 25, 26, 27, 28, 29, 30]\n",
    "])\n",
    "print(A)\n",
    "# Factorizando\n",
    "U, s, V = svd(A)\n",
    "# Creando la matriz Sigma de m x n\n",
    "Sigma = zeros((A.shape[0], A.shape[1]))\n",
    "# Llenando Sigma con la matriz diagonal de n x n\n",
    "Sigma[:A.shape[0], :A.shape[0]] = diag(s)\n",
    "# Seleccionando\n",
    "n_elementos = 2\n",
    "Sigma = Sigma[:, :n_elementos]\n",
    "V = V[:n_elementos, :]\n",
    "# Reconstruyendo\n",
    "B = U.dot(Sigma.dot(V))\n",
    "print(B)\n",
    "# Transformando\n",
    "T = U.dot(Sigma)\n",
    "print(T)\n",
    "T = A.dot(V.T)\n",
    "print(T)"
   ]
  },
  {
   "cell_type": "markdown",
   "metadata": {},
   "source": [
    "Usando la clase `TruncatedSVD`:"
   ]
  },
  {
   "cell_type": "code",
   "execution_count": 9,
   "metadata": {},
   "outputs": [
    {
     "name": "stdout",
     "output_type": "stream",
     "text": [
      "[[ 1  2  3  4  5  6  7  8  9 10]\n",
      " [11 12 13 14 15 16 17 18 19 20]\n",
      " [21 22 23 24 25 26 27 28 29 30]]\n",
      "[[18.52157747  6.47697214]\n",
      " [49.81310011  1.91182038]\n",
      " [81.10462276 -2.65333138]]\n"
     ]
    }
   ],
   "source": [
    "# Reducción de dimensión\n",
    "\n",
    "from numpy import array\n",
    "from sklearn.decomposition import TruncatedSVD\n",
    "# Definiendo la matriz\n",
    "A = array([\n",
    "    [1, 2, 3, 4, 5, 6, 7, 8, 9, 10],\n",
    "    [11, 12, 13, 14, 15, 16, 17, 18, 19, 20],\n",
    "    [21, 22, 23, 24, 25, 26, 27, 28, 29, 30]\n",
    "])\n",
    "print(A)\n",
    "# Creando la transformación\n",
    "svd = TruncatedSVD(n_components = 2)\n",
    "# Encajando la transformación\n",
    "svd.fit(A)\n",
    "# Aplicando la transformación \n",
    "resultado = svd.transform(A)\n",
    "print(resultado)"
   ]
  }
 ],
 "metadata": {
  "kernelspec": {
   "display_name": "Python 3",
   "language": "python",
   "name": "python3"
  },
  "language_info": {
   "codemirror_mode": {
    "name": "ipython",
    "version": 3
   },
   "file_extension": ".py",
   "mimetype": "text/x-python",
   "name": "python",
   "nbconvert_exporter": "python",
   "pygments_lexer": "ipython3",
   "version": "3.7.3"
  }
 },
 "nbformat": 4,
 "nbformat_minor": 2
}
