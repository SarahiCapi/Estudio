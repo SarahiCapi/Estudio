{
 "cells": [
  {
   "cell_type": "markdown",
   "metadata": {},
   "source": [
    "### EJEMPLO 1\n",
    "Es necesario usar la función `lu()` para obtener la descomposición LU."
   ]
  },
  {
   "cell_type": "code",
   "execution_count": 1,
   "metadata": {},
   "outputs": [
    {
     "name": "stdout",
     "output_type": "stream",
     "text": [
      "[[ 1  2  3]\n",
      " [ 5  6  7]\n",
      " [ 8  9 10]]\n",
      "[[0. 1. 0.]\n",
      " [0. 0. 1.]\n",
      " [1. 0. 0.]]\n",
      "[[1.         0.         0.        ]\n",
      " [0.125      1.         0.        ]\n",
      " [0.625      0.42857143 1.        ]]\n",
      "[[8.00000000e+00 9.00000000e+00 1.00000000e+01]\n",
      " [0.00000000e+00 8.75000000e-01 1.75000000e+00]\n",
      " [0.00000000e+00 0.00000000e+00 4.16333634e-17]]\n",
      "[[ 1.  2.  3.]\n",
      " [ 5.  6.  7.]\n",
      " [ 8.  9. 10.]]\n"
     ]
    }
   ],
   "source": [
    "# Descomposición LU\n",
    "\n",
    "from numpy import array\n",
    "from scipy.linalg import lu\n",
    "# Definiendo una matriz cuadrada\n",
    "A = array([\n",
    "    [1, 2, 3],\n",
    "    [5, 6, 7],\n",
    "    [8, 9, 10]\n",
    "])\n",
    "print(A)\n",
    "# Factorizando\n",
    "P, L, U = lu(A)\n",
    "print(P)\n",
    "print(L)\n",
    "print(U)\n",
    "# Reconstruyendo\n",
    "B = P.dot(L).dot(U)\n",
    "print(B)"
   ]
  },
  {
   "cell_type": "markdown",
   "metadata": {},
   "source": [
    "### EJEMPLO 2\n",
    "Para obtener la descomposición QR se utiliza la función `qr()`. \n",
    "Por default, la función regresa las matrices $Q$ y $R$ con una dimensión más pequeña. Para cambiar esto y obtener las dimensiones esperadas, usamos el argumento *'complete'*. "
   ]
  },
  {
   "cell_type": "code",
   "execution_count": 3,
   "metadata": {},
   "outputs": [
    {
     "name": "stdout",
     "output_type": "stream",
     "text": [
      "[[1 2]\n",
      " [3 4]\n",
      " [5 6]]\n",
      "[[-0.16903085  0.89708523  0.40824829]\n",
      " [-0.50709255  0.27602622 -0.81649658]\n",
      " [-0.84515425 -0.34503278  0.40824829]]\n",
      "[[-5.91607978 -7.43735744]\n",
      " [ 0.          0.82807867]\n",
      " [ 0.          0.        ]]\n",
      "[[1. 2.]\n",
      " [3. 4.]\n",
      " [5. 6.]]\n"
     ]
    }
   ],
   "source": [
    "# Descomposición QR\n",
    "\n",
    "from numpy import array\n",
    "from numpy.linalg import qr\n",
    "# Definiendo una matriz rectangular\n",
    "A = array([\n",
    "    [1, 2],\n",
    "    [3, 4],\n",
    "    [5, 6]\n",
    "])\n",
    "print(A)\n",
    "# Factorización\n",
    "Q, R = qr(A, 'complete')\n",
    "print(Q)\n",
    "print(R)\n",
    "# Reconstruyendo\n",
    "B = Q.dot(R)\n",
    "print(B)"
   ]
  },
  {
   "cell_type": "markdown",
   "metadata": {},
   "source": [
    "### EJEMPLO 3\n",
    "Para obtener la descomposición de Cholesky debemos usar la función `cholesky()`."
   ]
  },
  {
   "cell_type": "code",
   "execution_count": 5,
   "metadata": {},
   "outputs": [
    {
     "name": "stdout",
     "output_type": "stream",
     "text": [
      "[[2 1 1]\n",
      " [1 2 1]\n",
      " [1 1 2]]\n",
      "[[1.41421356 0.         0.        ]\n",
      " [0.70710678 1.22474487 0.        ]\n",
      " [0.70710678 0.40824829 1.15470054]]\n",
      "[[2. 1. 1.]\n",
      " [1. 2. 1.]\n",
      " [1. 1. 2.]]\n"
     ]
    }
   ],
   "source": [
    "# Descomposición de Cholesky\n",
    "\n",
    "from numpy import array\n",
    "from numpy.linalg import cholesky\n",
    "# Definiendo una matriz simétrica\n",
    "A = array([\n",
    "    [2, 1, 1],\n",
    "    [1, 2, 1],\n",
    "    [1, 1, 2]\n",
    "])\n",
    "print(A)\n",
    "# Factorización\n",
    "L = cholesky(A)\n",
    "print(L)\n",
    "# Reconstruyendo\n",
    "B = L.dot(L.T)\n",
    "print(B)"
   ]
  }
 ],
 "metadata": {
  "kernelspec": {
   "display_name": "Python 3",
   "language": "python",
   "name": "python3"
  },
  "language_info": {
   "codemirror_mode": {
    "name": "ipython",
    "version": 3
   },
   "file_extension": ".py",
   "mimetype": "text/x-python",
   "name": "python",
   "nbconvert_exporter": "python",
   "pygments_lexer": "ipython3",
   "version": "3.7.3"
  }
 },
 "nbformat": 4,
 "nbformat_minor": 2
}
