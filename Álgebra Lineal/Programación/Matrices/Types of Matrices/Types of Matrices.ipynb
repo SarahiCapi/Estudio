{
 "cells": [
  {
   "cell_type": "markdown",
   "metadata": {},
   "source": [
    "### EJEMPLO 1\n",
    "La función que se necesita para calcular el triangulo inferior de una matriz dada es `tril()`, mientras que para calular el triángulo inferior se ocupa la función `triu()`."
   ]
  },
  {
   "cell_type": "code",
   "execution_count": 2,
   "metadata": {},
   "outputs": [
    {
     "name": "stdout",
     "output_type": "stream",
     "text": [
      "[[1 2 3]\n",
      " [1 2 3]\n",
      " [1 2 3]]\n",
      "[[1 0 0]\n",
      " [1 2 0]\n",
      " [1 2 3]]\n",
      "[[1 2 3]\n",
      " [0 2 3]\n",
      " [0 0 3]]\n"
     ]
    }
   ],
   "source": [
    "# Matrices triangulares\n",
    "\n",
    "from numpy import array, tril, triu\n",
    "\n",
    "# Definiendo una matriz cuadrada\n",
    "M = array([\n",
    "    [1, 2, 3],\n",
    "    [1, 2, 3],\n",
    "    [1, 2, 3]\n",
    "])\n",
    "print(M)\n",
    "# Calculando la matriz triangular inferior y superior\n",
    "lower = tril(M)\n",
    "upper = triu(M)\n",
    "print(lower)\n",
    "print(upper)"
   ]
  },
  {
   "cell_type": "markdown",
   "metadata": {},
   "source": [
    "### EJEMPLO 2\n",
    "La función que se necesita es `diag()`."
   ]
  },
  {
   "cell_type": "code",
   "execution_count": 3,
   "metadata": {},
   "outputs": [
    {
     "name": "stdout",
     "output_type": "stream",
     "text": [
      "[[1 2 3]\n",
      " [1 2 3]\n",
      " [1 2 3]]\n",
      "[1 2 3]\n",
      "[[1 0 0]\n",
      " [0 2 0]\n",
      " [0 0 3]]\n"
     ]
    }
   ],
   "source": [
    "# Matriz diagonal\n",
    "\n",
    "from numpy import array, diag\n",
    "\n",
    "# Definiendo una matriz cuadrada\n",
    "M = array([\n",
    "    [1, 2, 3],\n",
    "    [1, 2, 3],\n",
    "    [1, 2, 3]\n",
    "])\n",
    "print(M)\n",
    "# Extrayendo la diagonal como un vector\n",
    "d = diag(M)\n",
    "print(d)\n",
    "# Creando la matriz diagional a partir de un vector\n",
    "D = diag(d)\n",
    "print(D)"
   ]
  },
  {
   "cell_type": "markdown",
   "metadata": {},
   "source": [
    "### EJEMPLO 3\n",
    "Se utiliza la función `identity()` para crear una matriz identidad con un tamaño específico."
   ]
  },
  {
   "cell_type": "code",
   "execution_count": 1,
   "metadata": {},
   "outputs": [
    {
     "name": "stdout",
     "output_type": "stream",
     "text": [
      "[[1. 0. 0.]\n",
      " [0. 1. 0.]\n",
      " [0. 0. 1.]]\n"
     ]
    }
   ],
   "source": [
    "# Matriz identidad\n",
    "\n",
    "from numpy import identity\n",
    "I = identity(3) # Matriz identidad de orden 3\n",
    "print(I)"
   ]
  },
  {
   "cell_type": "markdown",
   "metadata": {},
   "source": [
    "### EJEMPLO 4"
   ]
  },
  {
   "cell_type": "code",
   "execution_count": 7,
   "metadata": {},
   "outputs": [
    {
     "name": "stdout",
     "output_type": "stream",
     "text": [
      "[[ 1  0]\n",
      " [ 0 -1]]\n",
      "[[ 1  0]\n",
      " [ 0 -1]]\n",
      "[[ 1.  0.]\n",
      " [-0. -1.]]\n",
      "[[1 0]\n",
      " [0 1]]\n"
     ]
    }
   ],
   "source": [
    "# Matriz ortogonal\n",
    "\n",
    "from numpy import array\n",
    "from numpy.linalg import inv\n",
    "# Definiendo la matriz ortogonal\n",
    "Q = array([\n",
    "    [1, 0],\n",
    "    [0, -1]\n",
    "])\n",
    "print(Q)\n",
    "# Probando la equivalencia de la inversa\n",
    "V = inv(Q)\n",
    "print(Q.T) # Imprimir la transpuesta de la matriz Q\n",
    "print(V)\n",
    "# Probando la equivalencia de la identidad\n",
    "I = Q.dot(Q.T)\n",
    "print(I)"
   ]
  }
 ],
 "metadata": {
  "kernelspec": {
   "display_name": "Python 3",
   "language": "python",
   "name": "python3"
  },
  "language_info": {
   "codemirror_mode": {
    "name": "ipython",
    "version": 3
   },
   "file_extension": ".py",
   "mimetype": "text/x-python",
   "name": "python",
   "nbconvert_exporter": "python",
   "pygments_lexer": "ipython3",
   "version": "3.7.3"
  }
 },
 "nbformat": 4,
 "nbformat_minor": 2
}
