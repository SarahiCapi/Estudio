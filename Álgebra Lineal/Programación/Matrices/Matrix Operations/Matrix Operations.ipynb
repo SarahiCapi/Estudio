{
 "cells": [
  {
   "cell_type": "markdown",
   "metadata": {},
   "source": [
    "### EJEMPLO 1\n",
    "Podemos transponer una matriz utilizando el atributo `T."
   ]
  },
  {
   "cell_type": "code",
   "execution_count": 2,
   "metadata": {},
   "outputs": [
    {
     "name": "stdout",
     "output_type": "stream",
     "text": [
      "[[1 2]\n",
      " [3 4]\n",
      " [5 6]]\n",
      "[[1 3 5]\n",
      " [2 4 6]]\n"
     ]
    }
   ],
   "source": [
    "# Transponer una matriz\n",
    "\n",
    "from numpy import array\n",
    "# Definiendo la matriz\n",
    "A = array([\n",
    "    [1, 2],\n",
    "    [3, 4],\n",
    "    [5, 6]\n",
    "])\n",
    "print(A)\n",
    "# Calculando la transpuesta\n",
    "C = A.T\n",
    "print(C)"
   ]
  },
  {
   "cell_type": "markdown",
   "metadata": {},
   "source": [
    "### EJEMPLO 2\n",
    "Es necesario utilizar la función `inv()` para invertir una matriz."
   ]
  },
  {
   "cell_type": "code",
   "execution_count": 1,
   "metadata": {},
   "outputs": [
    {
     "name": "stdout",
     "output_type": "stream",
     "text": [
      "[[1 2]\n",
      " [3 4]]\n",
      "[[-2.   1. ]\n",
      " [ 1.5 -0.5]]\n",
      "[[1.00000000e+00 1.11022302e-16]\n",
      " [0.00000000e+00 1.00000000e+00]]\n"
     ]
    }
   ],
   "source": [
    "# Inversa de una matriz\n",
    "\n",
    "from numpy import array\n",
    "from numpy.linalg import inv\n",
    "# Definiendo la matriz\n",
    "A = array([\n",
    "    [1, 2],\n",
    "    [3, 4]\n",
    "])\n",
    "print(A)\n",
    "# Invirtiendo la matriz\n",
    "B = inv(A)\n",
    "print(B)\n",
    "# Multiplicando A y B\n",
    "I = A.dot(B)\n",
    "print(I)"
   ]
  },
  {
   "cell_type": "markdown",
   "metadata": {},
   "source": [
    "### EJEMPLO 3\n",
    "Para obtener la traza de la matriz, debemos ocupar la función `trace()`."
   ]
  },
  {
   "cell_type": "code",
   "execution_count": 3,
   "metadata": {},
   "outputs": [
    {
     "name": "stdout",
     "output_type": "stream",
     "text": [
      "[[1 2 3]\n",
      " [4 5 6]\n",
      " [7 8 9]]\n",
      "15\n"
     ]
    }
   ],
   "source": [
    "# Traza de una matriz\n",
    "\n",
    "from numpy import array, trace\n",
    "# Definiendo la matriz\n",
    "A = array([\n",
    "    [1, 2, 3],\n",
    "    [4, 5, 6],\n",
    "    [7, 8, 9]\n",
    "])\n",
    "print(A)\n",
    "# Calculando la traza\n",
    "B = trace(A)\n",
    "print(B)"
   ]
  },
  {
   "cell_type": "markdown",
   "metadata": {},
   "source": [
    "### EJEMPLO 4\n",
    "El determinante de una matriz se calcula usando la función `det()`."
   ]
  },
  {
   "cell_type": "code",
   "execution_count": 5,
   "metadata": {},
   "outputs": [
    {
     "name": "stdout",
     "output_type": "stream",
     "text": [
      "[[1 2 3]\n",
      " [4 5 6]\n",
      " [7 8 9]]\n",
      "-9.51619735392994e-16\n"
     ]
    }
   ],
   "source": [
    "# Determinante de una matriz\n",
    "\n",
    "from numpy import array\n",
    "from numpy.linalg import det\n",
    "# Definiendo la matriz\n",
    "A = array([\n",
    "    [1, 2, 3],\n",
    "    [4, 5, 6],\n",
    "    [7, 8, 9]\n",
    "])\n",
    "print(A)\n",
    "# Calculando el determinante de A\n",
    "B = det(A)\n",
    "print(B)"
   ]
  },
  {
   "cell_type": "markdown",
   "metadata": {},
   "source": [
    "### EJEMPLO 5\n",
    "Usando la función `matrix_rank()` podemos obtener el rango de una matriz o vector."
   ]
  },
  {
   "cell_type": "code",
   "execution_count": 6,
   "metadata": {},
   "outputs": [
    {
     "name": "stdout",
     "output_type": "stream",
     "text": [
      "[1 2 3]\n",
      "1\n",
      "[0 0 0 0 0]\n",
      "0\n"
     ]
    }
   ],
   "source": [
    "# Rango de una vector\n",
    "\n",
    "from numpy import array\n",
    "from numpy.linalg import matrix_rank\n",
    "# Rango\n",
    "v1 = array([1, 2, 3])\n",
    "vr1 = matrix_rank(v1)\n",
    "# Rango cero\n",
    "v2 = array([0, 0, 0, 0, 0])\n",
    "vr2 = matrix_rank(v2)\n",
    "print(v1)\n",
    "print(vr1)\n",
    "print(v2)\n",
    "print(vr2)"
   ]
  },
  {
   "cell_type": "markdown",
   "metadata": {},
   "source": [
    "### EJEMPLO 6"
   ]
  },
  {
   "cell_type": "code",
   "execution_count": 11,
   "metadata": {},
   "outputs": [
    {
     "name": "stdout",
     "output_type": "stream",
     "text": [
      "[[0 0]\n",
      " [0 0]]\n",
      "0\n",
      "[[1 2]\n",
      " [1 2]]\n",
      "1\n",
      "[[1 2]\n",
      " [3 4]]\n",
      "2\n"
     ]
    }
   ],
   "source": [
    "# Rango de una matriz\n",
    "\n",
    "from numpy import array\n",
    "from numpy.linalg import matrix_rank\n",
    "# Rango 0\n",
    "M0 = array([\n",
    "    [0, 0],\n",
    "    [0, 0]\n",
    "])\n",
    "MR0 = matrix_rank(M0)\n",
    "# Rango 1\n",
    "M1 = array([\n",
    "    [1, 2],\n",
    "    [1, 2]\n",
    "])\n",
    "MR1 = matrix_rank(M1)\n",
    "# Rango 2\n",
    "M2 = array([\n",
    "    [1, 2],\n",
    "    [3, 4]\n",
    "])\n",
    "MR2 = matrix_rank(M2)\n",
    "print(M0)\n",
    "print(MR0)\n",
    "print(M1)\n",
    "print(MR1)\n",
    "print(M2)\n",
    "print(MR2)"
   ]
  }
 ],
 "metadata": {
  "kernelspec": {
   "display_name": "Python 3",
   "language": "python",
   "name": "python3"
  },
  "language_info": {
   "codemirror_mode": {
    "name": "ipython",
    "version": 3
   },
   "file_extension": ".py",
   "mimetype": "text/x-python",
   "name": "python",
   "nbconvert_exporter": "python",
   "pygments_lexer": "ipython3",
   "version": "3.7.3"
  }
 },
 "nbformat": 4,
 "nbformat_minor": 2
}
