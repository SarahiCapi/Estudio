{
 "cells": [
  {
   "cell_type": "markdown",
   "metadata": {},
   "source": [
    "### EJEMPLO 1\n",
    "La función para poder calcular la norma $L^1$ es `norm()` indicando en el segundo parámetro un $1$."
   ]
  },
  {
   "cell_type": "code",
   "execution_count": 1,
   "metadata": {},
   "outputs": [
    {
     "name": "stdout",
     "output_type": "stream",
     "text": [
      "[1 2 3]\n",
      "6.0\n"
     ]
    }
   ],
   "source": [
    "# Norma L1\n",
    "\n",
    "from numpy import array\n",
    "from numpy.linalg import norm\n",
    "# Definiendo el vector\n",
    "a = array([1, 2, 3])\n",
    "print(a)\n",
    "# Calculando la norma\n",
    "l1 = norm(a, 1)\n",
    "print(l1)"
   ]
  },
  {
   "cell_type": "markdown",
   "metadata": {},
   "source": [
    "### EJEMPLO 2\n",
    "La función para poder calcular la norma $L^2$ es `norm()`."
   ]
  },
  {
   "cell_type": "code",
   "execution_count": 2,
   "metadata": {},
   "outputs": [
    {
     "name": "stdout",
     "output_type": "stream",
     "text": [
      "[1 2 3]\n",
      "3.7416573867739413\n"
     ]
    }
   ],
   "source": [
    "# Norma L2\n",
    "\n",
    "from numpy import array\n",
    "from numpy.linalg import norm\n",
    "# Definiendo el vector\n",
    "a = array([1, 2, 3])\n",
    "print(a)\n",
    "# Calculando la norma\n",
    "l2 = norm(a)\n",
    "print(l2)"
   ]
  },
  {
   "cell_type": "markdown",
   "metadata": {},
   "source": [
    "### EJEMPLO 3\n",
    "La función para poder calcular la norma $L^\\infty$ es `norm()` indicando en el segundo parámetro un `inf`."
   ]
  },
  {
   "cell_type": "code",
   "execution_count": 4,
   "metadata": {},
   "outputs": [
    {
     "name": "stdout",
     "output_type": "stream",
     "text": [
      "[1 2 3]\n",
      "3.0\n"
     ]
    }
   ],
   "source": [
    "# Norma Linf\n",
    "\n",
    "from math import inf\n",
    "from numpy import array\n",
    "from numpy.linalg import norm\n",
    "# Definiendo el vector\n",
    "a = array([1, 2, 3])\n",
    "print(a)\n",
    "# Calculando la norma\n",
    "linf = norm(a, inf)\n",
    "print(linf)"
   ]
  }
 ],
 "metadata": {
  "kernelspec": {
   "display_name": "Python 3",
   "language": "python",
   "name": "python3"
  },
  "language_info": {
   "codemirror_mode": {
    "name": "ipython",
    "version": 3
   },
   "file_extension": ".py",
   "mimetype": "text/x-python",
   "name": "python",
   "nbconvert_exporter": "python",
   "pygments_lexer": "ipython3",
   "version": "3.7.3"
  }
 },
 "nbformat": 4,
 "nbformat_minor": 2
}
