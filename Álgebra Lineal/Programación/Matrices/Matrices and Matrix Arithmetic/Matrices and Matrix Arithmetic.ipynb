{
 "cells": [
  {
   "cell_type": "markdown",
   "metadata": {},
   "source": [
    "### EJEMPLO 1"
   ]
  },
  {
   "cell_type": "code",
   "execution_count": 1,
   "metadata": {},
   "outputs": [
    {
     "name": "stdout",
     "output_type": "stream",
     "text": [
      "[[1 2 3]\n",
      " [4 5 6]]\n"
     ]
    }
   ],
   "source": [
    "# Crear una matriz\n",
    "\n",
    "from numpy import array\n",
    "A = array([\n",
    "    [1, 2, 3],\n",
    "    [4, 5, 6]\n",
    "])\n",
    "print(A)"
   ]
  },
  {
   "cell_type": "markdown",
   "metadata": {},
   "source": [
    "### EJEMPLO 2"
   ]
  },
  {
   "cell_type": "code",
   "execution_count": 2,
   "metadata": {},
   "outputs": [
    {
     "name": "stdout",
     "output_type": "stream",
     "text": [
      "[[1 2 3]\n",
      " [4 5 6]]\n",
      "[[1 2 3]\n",
      " [4 5 6]]\n",
      "[[ 2  4  6]\n",
      " [ 8 10 12]]\n"
     ]
    }
   ],
   "source": [
    "# Sumar dos matrices\n",
    "\n",
    "from numpy import array\n",
    "# Definiendo la primera y segunda matriz\n",
    "A, B = array([\n",
    "    [1, 2, 3],\n",
    "    [4, 5, 6]\n",
    "]),  array([\n",
    "    [1, 2, 3],\n",
    "    [4, 5, 6]\n",
    "])\n",
    "print(A)\n",
    "print(B)\n",
    "# Sumando las matrices\n",
    "C = A + B\n",
    "print(C)"
   ]
  },
  {
   "cell_type": "markdown",
   "metadata": {},
   "source": [
    "### EJEMPLO 3"
   ]
  },
  {
   "cell_type": "code",
   "execution_count": 3,
   "metadata": {},
   "outputs": [
    {
     "name": "stdout",
     "output_type": "stream",
     "text": [
      "[[1 2 3]\n",
      " [4 5 6]]\n",
      "[[ 2  4  6]\n",
      " [ 8 10 12]]\n",
      "[[-1 -2 -3]\n",
      " [-4 -5 -6]]\n"
     ]
    }
   ],
   "source": [
    "# Restar dos matrices\n",
    "\n",
    "from numpy import array\n",
    "# Definiendo la primera y segunda matriz\n",
    "A, B = array([\n",
    "    [1, 2, 3],\n",
    "    [4, 5, 6]\n",
    "]),  array([\n",
    "    [2, 4, 6],\n",
    "    [8, 10, 12]\n",
    "])\n",
    "print(A)\n",
    "print(B)\n",
    "# Restando las matrices\n",
    "C = A - B\n",
    "print(C)"
   ]
  },
  {
   "cell_type": "markdown",
   "metadata": {},
   "source": [
    "### EJEMPLO 4"
   ]
  },
  {
   "cell_type": "code",
   "execution_count": 4,
   "metadata": {},
   "outputs": [
    {
     "name": "stdout",
     "output_type": "stream",
     "text": [
      "[[1 2 3]\n",
      " [4 5 6]]\n",
      "[[1 2 3]\n",
      " [4 5 6]]\n",
      "[[ 1  4  9]\n",
      " [16 25 36]]\n"
     ]
    }
   ],
   "source": [
    "# Multiplicación Hadamard de dos matrices\n",
    "\n",
    "from numpy import array\n",
    "# Definiendo la primera y segunda matriz\n",
    "A, B = array([\n",
    "    [1, 2, 3],\n",
    "    [4, 5, 6]\n",
    "]),  array([\n",
    "    [1, 2, 3],\n",
    "    [4, 5, 6]\n",
    "])\n",
    "print(A)\n",
    "print(B)\n",
    "# Multiplicando las matrices\n",
    "C = A * B\n",
    "print(C)"
   ]
  },
  {
   "cell_type": "markdown",
   "metadata": {},
   "source": [
    "### EJEMPLO 5"
   ]
  },
  {
   "cell_type": "code",
   "execution_count": 5,
   "metadata": {},
   "outputs": [
    {
     "name": "stdout",
     "output_type": "stream",
     "text": [
      "[[1 2 3]\n",
      " [4 5 6]]\n",
      "[[1 2 3]\n",
      " [4 5 6]]\n",
      "[[1. 1. 1.]\n",
      " [1. 1. 1.]]\n"
     ]
    }
   ],
   "source": [
    "# División de dos matrices\n",
    "\n",
    "from numpy import array\n",
    "# Definiendo la primera y segunda matriz\n",
    "A, B = array([\n",
    "    [1, 2, 3],\n",
    "    [4, 5, 6]\n",
    "]),  array([\n",
    "    [1, 2, 3],\n",
    "    [4, 5, 6]\n",
    "])\n",
    "print(A)\n",
    "print(B)\n",
    "# Dividiendo las matrices\n",
    "C = A / B\n",
    "print(C)"
   ]
  },
  {
   "cell_type": "markdown",
   "metadata": {},
   "source": [
    "### EJEMPLO 6\n",
    "La función que se utiliza para realizar esta operación es `dot()`, o bien, podemos ocupar el operador `@`."
   ]
  },
  {
   "cell_type": "code",
   "execution_count": 2,
   "metadata": {},
   "outputs": [
    {
     "name": "stdout",
     "output_type": "stream",
     "text": [
      "[[1 2 3]\n",
      " [4 5 6]]\n",
      "[[1 2]\n",
      " [3 4]\n",
      " [5 6]]\n",
      "[[22 28]\n",
      " [49 64]]\n",
      "[[22 28]\n",
      " [49 64]]\n"
     ]
    }
   ],
   "source": [
    "# Producto punto de matrices\n",
    "\n",
    "from numpy import array\n",
    "# Definiendo la primera y segunda matriz\n",
    "A, B = array([\n",
    "    [1, 2, 3],\n",
    "    [4, 5, 6]\n",
    "]),  array([\n",
    "    [1, 2],\n",
    "    [3, 4],\n",
    "    [5, 6]\n",
    "])\n",
    "print(A)\n",
    "print(B)\n",
    "# Multiplicando las matrices\n",
    "C = A.dot(B)\n",
    "print(C)\n",
    "# Usando el operador @\n",
    "print(A @ B)"
   ]
  },
  {
   "cell_type": "markdown",
   "metadata": {},
   "source": [
    "### EJEMPLO 7\n",
    "La función que se utiliza para realizar esta operación es `dot()`."
   ]
  },
  {
   "cell_type": "code",
   "execution_count": 3,
   "metadata": {},
   "outputs": [
    {
     "name": "stdout",
     "output_type": "stream",
     "text": [
      "[[1 2 3]\n",
      " [4 5 6]]\n",
      "[1 2 3]\n",
      "[14 32]\n"
     ]
    }
   ],
   "source": [
    "# Multiplicación de matriz con vector\n",
    "\n",
    "from numpy import array\n",
    "# Definiendo la matriz y el vector\n",
    "A, v = array([\n",
    "    [1, 2, 3],\n",
    "    [4, 5, 6]\n",
    "]),  array([1, 2, 3])\n",
    "print(A)\n",
    "print(v)\n",
    "# Multiplicando la matriz y el vector\n",
    "C = A.dot(v)\n",
    "print(C)"
   ]
  },
  {
   "cell_type": "markdown",
   "metadata": {},
   "source": [
    "### EJEMPLO 8"
   ]
  },
  {
   "cell_type": "code",
   "execution_count": 4,
   "metadata": {},
   "outputs": [
    {
     "name": "stdout",
     "output_type": "stream",
     "text": [
      "[[1 2 3]\n",
      " [4 5 6]]\n",
      "2\n",
      "[[ 2  4  6]\n",
      " [ 8 10 12]]\n"
     ]
    }
   ],
   "source": [
    "# Multiplicación de una matriz por un escalar\n",
    "\n",
    "from numpy import array\n",
    "# Definiendo la matriz y el escalar\n",
    "A, b = array([\n",
    "    [1, 2, 3],\n",
    "    [4, 5, 6]\n",
    "]),  2\n",
    "print(A)\n",
    "print(b)\n",
    "# Multiplicando la matriz y el escalar\n",
    "C = A * b\n",
    "print(C)"
   ]
  }
 ],
 "metadata": {
  "kernelspec": {
   "display_name": "Python 3",
   "language": "python",
   "name": "python3"
  },
  "language_info": {
   "codemirror_mode": {
    "name": "ipython",
    "version": 3
   },
   "file_extension": ".py",
   "mimetype": "text/x-python",
   "name": "python",
   "nbconvert_exporter": "python",
   "pygments_lexer": "ipython3",
   "version": "3.7.3"
  }
 },
 "nbformat": 4,
 "nbformat_minor": 2
}
