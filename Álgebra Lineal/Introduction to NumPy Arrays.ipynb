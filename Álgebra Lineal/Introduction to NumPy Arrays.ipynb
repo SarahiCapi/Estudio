{
 "cells": [
  {
   "cell_type": "markdown",
   "metadata": {},
   "source": [
    "# NumPy N-dimensional Array"
   ]
  },
  {
   "cell_type": "markdown",
   "metadata": {},
   "source": [
    "En NumPy se ocupan los ndarray, que son arreglos que contienen data del mismo tipo. El tipo de dato puede ser visto a través de dtype, la dimensión con shpae.\n",
    "Una forma sencilla de crear un arreglo es ocupando `array()`."
   ]
  },
  {
   "cell_type": "code",
   "execution_count": 3,
   "metadata": {},
   "outputs": [
    {
     "name": "stdout",
     "output_type": "stream",
     "text": [
      "[1. 2. 3.]\n",
      "(3,)\n",
      "float64\n"
     ]
    }
   ],
   "source": [
    "# Importando la librería\n",
    "from numpy import array\n",
    "# Creando arreglo\n",
    "l = [1.0, 2.0, 3.0]\n",
    "a = array(l)\n",
    "# Imprimiendo el arreglo\n",
    "print(a)\n",
    "# Imprimiendo la dimensión\n",
    "print(a.shape)\n",
    "# Imprimiendo el tipo de dato\n",
    "print(a.dtype)"
   ]
  },
  {
   "cell_type": "markdown",
   "metadata": {},
   "source": [
    "# Functions to Create Arrays"
   ]
  },
  {
   "cell_type": "markdown",
   "metadata": {},
   "source": [
    "### Empty"
   ]
  },
  {
   "cell_type": "markdown",
   "metadata": {},
   "source": [
    "La función `empty()` creará un arreglo con dimensión específica. Su argumento es un arreglo o tuple que especifica la dimensión. Los valores o contenido que tenga este arreglo será totalmente aleatorio. "
   ]
  },
  {
   "cell_type": "code",
   "execution_count": 5,
   "metadata": {},
   "outputs": [
    {
     "name": "stdout",
     "output_type": "stream",
     "text": [
      "[[0.00000000e+000 0.00000000e+000 0.00000000e+000]\n",
      " [0.00000000e+000 0.00000000e+000 6.34380289e-321]\n",
      " [1.78019354e-306 2.56761491e-312 0.00000000e+000]]\n"
     ]
    }
   ],
   "source": [
    "# Creando un arreglo vacío\n",
    "from numpy import empty\n",
    "a = empty([3,3]) # Crea un arreglo de 3x3\n",
    "print(a)"
   ]
  },
  {
   "cell_type": "markdown",
   "metadata": {},
   "source": [
    "### Zeros"
   ]
  },
  {
   "cell_type": "markdown",
   "metadata": {},
   "source": [
    "La función `zeros()` crea un nuevo arreglo con tamaño especificado, el cual contendrá puros valores 0."
   ]
  },
  {
   "cell_type": "code",
   "execution_count": 6,
   "metadata": {},
   "outputs": [
    {
     "name": "stdout",
     "output_type": "stream",
     "text": [
      "[[0. 0. 0. 0. 0.]\n",
      " [0. 0. 0. 0. 0.]\n",
      " [0. 0. 0. 0. 0.]]\n"
     ]
    }
   ],
   "source": [
    "# Creando un arreglo de ceros\n",
    "from numpy import zeros\n",
    "a = zeros([3,5])\n",
    "print(a)"
   ]
  },
  {
   "cell_type": "markdown",
   "metadata": {},
   "source": [
    "### Ones"
   ]
  },
  {
   "cell_type": "markdown",
   "metadata": {},
   "source": [
    "La función `ones()` crea un nuevo arreglo con tamaño específico, el cual contendrá puros valores 1."
   ]
  },
  {
   "cell_type": "code",
   "execution_count": 8,
   "metadata": {},
   "outputs": [
    {
     "name": "stdout",
     "output_type": "stream",
     "text": [
      "[1. 1. 1. 1. 1.]\n"
     ]
    }
   ],
   "source": [
    "# Creando un arreglo de unos\n",
    "from numpy import ones\n",
    "a = ones([5])\n",
    "print(a)"
   ]
  },
  {
   "cell_type": "markdown",
   "metadata": {},
   "source": [
    "# Combining Arrays"
   ]
  },
  {
   "cell_type": "markdown",
   "metadata": {},
   "source": [
    "### Vertical Stack"
   ]
  },
  {
   "cell_type": "markdown",
   "metadata": {},
   "source": [
    "Dados dos o más arreglos, se pueden juntar verticalmente usando `vstack()`. Por ejemplo, dados dos arreglos unidimensionales, se puede crear un nuevo arreglo bidimensional al juntarlos."
   ]
  },
  {
   "cell_type": "code",
   "execution_count": 11,
   "metadata": {},
   "outputs": [
    {
     "name": "stdout",
     "output_type": "stream",
     "text": [
      "[1 2 3]\n",
      "[4 5 6]\n",
      "[[1 2 3]\n",
      " [4 5 6]]\n",
      "(2, 3)\n"
     ]
    }
   ],
   "source": [
    "# Creando un arreglo con vstack\n",
    "from numpy import array, vstack\n",
    "a1 = array([1, 2, 3])\n",
    "print(a1)\n",
    "a2 = array([4, 5, 6])\n",
    "print(a2)\n",
    "a3 = vstack((a1, a2))\n",
    "print(a3)\n",
    "print(a3.shape)"
   ]
  },
  {
   "cell_type": "markdown",
   "metadata": {},
   "source": [
    "### Horizontal Stack"
   ]
  },
  {
   "cell_type": "markdown",
   "metadata": {},
   "source": [
    "Dados dos o más arreglos, se pueden juntar horizontalmente usando `hstack()`. Por ejemplo, dados dos arreglos unidimensionales, se puede crear un nuevo arreglo unidimensional con las columnas de ambos arreglos concatenados."
   ]
  },
  {
   "cell_type": "code",
   "execution_count": 13,
   "metadata": {},
   "outputs": [
    {
     "name": "stdout",
     "output_type": "stream",
     "text": [
      "[1 2 3]\n",
      "[4 5 6]\n",
      "[1 2 3 4 5 6]\n",
      "(6,)\n"
     ]
    }
   ],
   "source": [
    "# Creando un arreglo con hstack\n",
    "from numpy import array, hstack\n",
    "a1 = array([1, 2, 3])\n",
    "print(a1)\n",
    "a2 = array([4, 5, 6])\n",
    "print(a2)\n",
    "a3 = hstack((a1, a2))\n",
    "print(a3)\n",
    "print(a3.shape)"
   ]
  }
 ],
 "metadata": {
  "kernelspec": {
   "display_name": "Python 3",
   "language": "python",
   "name": "python3"
  },
  "language_info": {
   "codemirror_mode": {
    "name": "ipython",
    "version": 3
   },
   "file_extension": ".py",
   "mimetype": "text/x-python",
   "name": "python",
   "nbconvert_exporter": "python",
   "pygments_lexer": "ipython3",
   "version": "3.7.3"
  }
 },
 "nbformat": 4,
 "nbformat_minor": 2
}
